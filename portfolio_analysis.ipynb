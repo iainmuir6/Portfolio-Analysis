{
 "cells": [
  {
   "cell_type": "markdown",
   "metadata": {},
   "source": [
    "# End of Day Portfolio Analysis"
   ]
  },
  {
   "cell_type": "markdown",
   "metadata": {},
   "source": [
    "**Iain Muir, iam9ez@virginia.edu**"
   ]
  },
  {
   "cell_type": "markdown",
   "metadata": {},
   "source": [
    "*Date: February 16th, 2021*"
   ]
  },
  {
   "cell_type": "markdown",
   "metadata": {},
   "source": [
    "## Table of Contents"
   ]
  },
  {
   "cell_type": "markdown",
   "metadata": {},
   "source": [
    "* **0. Import Libraries and Secrets** \n",
    "    * *Packages, Modules, Secrets, and Constants*\n",
    "    * *Users Spreadsheet*\n",
    "    * *Datapane Authorization*\n",
    "    * *Configure Preferences*\n",
    "* **1. Portfolio Summary**  \n",
    "    * 1.1 Holdings Overview\n",
    "    * 1.2 Historical Portfolio Performance\n",
    "* **2. Portfolio News** \n",
    "* **3. Portfolio Analytics** \n",
    "* **4. Generate Reports**\n",
    "* **5. Validate Reports** \n",
    "* **6. Export Reports** "
   ]
  },
  {
   "cell_type": "markdown",
   "metadata": {},
   "source": [
    "## 0. Import Libraries and Secrets"
   ]
  },
  {
   "cell_type": "markdown",
   "metadata": {},
   "source": [
    "Python Packages"
   ]
  },
  {
   "cell_type": "code",
   "execution_count": 1,
   "metadata": {},
   "outputs": [],
   "source": [
    "import pandas_datareader as pdr\n",
    "from functools import reduce\n",
    "import robin_stocks as rs\n",
    "import datapane as dp\n",
    "import altair as alt\n",
    "import pandas as pd\n",
    "import numpy as np\n",
    "import webbrowser\n",
    "import datetime\n",
    "import warnings\n",
    "import random\n",
    "import json\n",
    "import os"
   ]
  },
  {
   "cell_type": "markdown",
   "metadata": {},
   "source": [
    "Modules"
   ]
  },
  {
   "cell_type": "code",
   "execution_count": 2,
   "metadata": {},
   "outputs": [],
   "source": [
    "from robinhood import authenticate_, login, load_portfolio, robinhood_news, get_scroll_objects, ticker_toggle\n",
    "from finnhub import quote, big_number, candles, candlestick, name_search, profile\n",
    "from errors import ErrorHandler, Logging, get_error_info\n",
    "from helpers import get_market_opens"
   ]
  },
  {
   "cell_type": "markdown",
   "metadata": {},
   "source": [
    "Constants"
   ]
  },
  {
   "cell_type": "code",
   "execution_count": 3,
   "metadata": {},
   "outputs": [],
   "source": [
    "from constants import ROOT"
   ]
  },
  {
   "cell_type": "markdown",
   "metadata": {},
   "source": [
    "Users"
   ]
  },
  {
   "cell_type": "code",
   "execution_count": 4,
   "metadata": {},
   "outputs": [
    {
     "data": {
      "text/plain": [
       "(1, 3)"
      ]
     },
     "execution_count": 4,
     "metadata": {},
     "output_type": "execute_result"
    }
   ],
   "source": [
    "users = pd.read_csv('users.csv')\n",
    "users.shape"
   ]
  },
  {
   "cell_type": "markdown",
   "metadata": {},
   "source": [
    "Market Open"
   ]
  },
  {
   "cell_type": "code",
   "execution_count": 5,
   "metadata": {},
   "outputs": [
    {
     "data": {
      "text/plain": [
       "(821, 2)"
      ]
     },
     "execution_count": 5,
     "metadata": {},
     "output_type": "execute_result"
    }
   ],
   "source": [
    "is_open = pd.read_csv(\n",
    "    f'{ROOT}/Input/market_open.csv'\n",
    ")\n",
    "is_open['date'] = pd.to_datetime(is_open['date'], format='%Y-%m-%d').dt.date\n",
    "is_open.shape"
   ]
  },
  {
   "cell_type": "markdown",
   "metadata": {},
   "source": [
    "Secrets"
   ]
  },
  {
   "cell_type": "code",
   "execution_count": 6,
   "metadata": {},
   "outputs": [],
   "source": [
    "with open('secrets.json') as s:\n",
    "    secrets = json.loads(s.read())"
   ]
  },
  {
   "cell_type": "code",
   "execution_count": 7,
   "metadata": {},
   "outputs": [],
   "source": [
    "ROBINHOOD_USERS = secrets['robinhood']\n",
    "FINNHUB_KEY = secrets['finnhub']\n",
    "DATAPANE_KEY = secrets['datapane']"
   ]
  },
  {
   "cell_type": "markdown",
   "metadata": {},
   "source": [
    "Datapane Authorization"
   ]
  },
  {
   "cell_type": "code",
   "execution_count": 8,
   "metadata": {},
   "outputs": [],
   "source": [
    "version = !datapane --version"
   ]
  },
  {
   "cell_type": "code",
   "execution_count": 9,
   "metadata": {},
   "outputs": [],
   "source": [
    "assert version[0].split()[2] == '0.13.2'"
   ]
  },
  {
   "cell_type": "code",
   "execution_count": 10,
   "metadata": {},
   "outputs": [
    {
     "name": "stdout",
     "output_type": "stream",
     "text": [
      "\u001b[32mConnected successfully to https://datapane.com as iainmuir\u001b[0m\r\n"
     ]
    }
   ],
   "source": [
    "!datapane login --token=55010cebc170ecfbeddb82838c360776bf36f6be"
   ]
  },
  {
   "cell_type": "markdown",
   "metadata": {},
   "source": [
    "Preferences"
   ]
  },
  {
   "cell_type": "code",
   "execution_count": 11,
   "metadata": {},
   "outputs": [],
   "source": [
    "warnings.simplefilter(action=\"ignore\", category=pd.core.common.SettingWithCopyWarning)"
   ]
  },
  {
   "cell_type": "markdown",
   "metadata": {},
   "source": [
    "## 1. Portfolio Summary"
   ]
  },
  {
   "cell_type": "markdown",
   "metadata": {},
   "source": [
    "#### 1.1 Holdings Overview"
   ]
  },
  {
   "cell_type": "code",
   "execution_count": 12,
   "metadata": {},
   "outputs": [],
   "source": [
    "def security_grouping(symbol, shares, id_, equity):\n",
    "    \"\"\"\n",
    "    :param: symbol\n",
    "    :param: shares\n",
    "    :param: id_\n",
    "    :param: equity\n",
    "    \n",
    "    :return:\n",
    "    \"\"\"\n",
    "    \n",
    "    # ----- Symbol and Shares -----\n",
    "    info_content = f\"\"\"\n",
    "        <p class='symbol'>\n",
    "            {symbol}<br>\n",
    "            <span class='shares_num'>{shares} </span><span class='shares_word'>shares</span>\n",
    "        </p>\n",
    "    \"\"\".strip()\n",
    "    \n",
    "    # -----  Intraday Chart  -----\n",
    "    prices = candles(\n",
    "        FINNHUB_KEY, \n",
    "        symbol if equity else f'BINANCE:{symbol}USDT', \n",
    "        resolution='1',\n",
    "        type_='stock' if equity else 'crypto'\n",
    "    )[-480:].reset_index(drop=True)\n",
    "    \n",
    "    begin, end = prices.iloc[0]['c'], prices.iloc[-1]['c']\n",
    "    change = 'darkgreen' if end > begin else 'darkred'    \n",
    "    delta = (end / begin - 1) * 100\n",
    "    df = prices[['c', 't']]\n",
    "\n",
    "    chart = alt.Chart(\n",
    "        df\n",
    "    ).mark_area(\n",
    "        line={'color':change},\n",
    "        color=alt.Gradient(\n",
    "            gradient='linear',\n",
    "            stops=[\n",
    "                alt.GradientStop(color='white', offset=0),\n",
    "                alt.GradientStop(color=change, offset=1)\n",
    "            ]\n",
    "        )\n",
    "    ).encode(\n",
    "        x=alt.X(\n",
    "            \"t:T\",\n",
    "            axis=alt.Axis(\n",
    "                title=\"\",\n",
    "                labels=False\n",
    "            )\n",
    "        ),\n",
    "        y=alt.Y(\n",
    "            'c',\n",
    "            axis=alt.Axis(\n",
    "                title=\"\"\n",
    "            ),\n",
    "            scale=alt.Scale(\n",
    "                domain=[min(df['c']) - 1, max(df['c']) + 1]\n",
    "            )\n",
    "        )\n",
    "    ).configure_view(\n",
    "        strokeWidth=0,\n",
    "        continuousHeight=75,\n",
    "        continuousWidth=125\n",
    "    ).configure_axis(\n",
    "        grid=False, \n",
    "        domain=False\n",
    "    )\n",
    "    chart.save(f'{symbol}_chart.html')\n",
    "    with open(f'{symbol}_chart.html') as c:\n",
    "        chart_html = c.read()\n",
    "    chart_content = chart_html[chart_html.find('<script>'): chart_html.rfind('</script>') + 9]\n",
    "    chart_content = chart_content.replace('vegaEmbed(\"#vis', f'vegaEmbed(\"#vis{id_}')\n",
    "    \n",
    "    # -----  Intraday Change -----\n",
    "    change_content = f\"\"\"\n",
    "        <p class='change_{'up' if delta >= 0.0 else 'down'}'>\n",
    "            {round(delta,  2)}%\n",
    "        </p>\n",
    "    \"\"\".strip()\n",
    "    \n",
    "    return f\"\"\"\n",
    "        <div>\n",
    "            {info_content}\n",
    "        </div>\n",
    "        <div id=\"vis{id_}\" class=\"chart\"></div>\n",
    "        {chart_content}\n",
    "        <div>\n",
    "            {change_content}\n",
    "        </div>\n",
    "    \"\"\".strip()"
   ]
  },
  {
   "cell_type": "code",
   "execution_count": 13,
   "metadata": {},
   "outputs": [],
   "source": [
    "def security_html(symbols, quantities, id_, equity=True):\n",
    "    \"\"\"\n",
    "    \n",
    "    :param: symbols\n",
    "    :param: quantities\n",
    "    :param: id_\n",
    "    :param: equity\n",
    "    :return:\n",
    "    \"\"\"\n",
    "    \n",
    "    groups = list(map(\n",
    "        lambda s, q, i: security_grouping(s, q, i, equity),\n",
    "        symbols, quantities, id_\n",
    "    ))\n",
    "    html = \"\"\"\n",
    "    <!DOCTYPE html>\n",
    "    <html>\n",
    "    <head>\n",
    "        <style type='text/css'>\n",
    "            .grid-container {\n",
    "                display: grid;\n",
    "                grid-template-columns: auto auto auto;\n",
    "                border-top: 0px solid black;\n",
    "                border-left: 0px solid black;\n",
    "            }\n",
    "            .grid-container > div {\n",
    "                border-bottom: 0px;\n",
    "                border-right: 0px;\n",
    "            }\n",
    "            .chart {\n",
    "                display: block;\n",
    "                margin: 0 auto;\n",
    "            }\n",
    "            .symbol {\n",
    "                font-size: 20px;\n",
    "                font-weight: bold;\n",
    "                color: #000000;\n",
    "                padding: 15px 0;\n",
    "                float: right;\n",
    "                text-align: center;\n",
    "            }\n",
    "            .shares_num {\n",
    "                font-size: 12px;\n",
    "                color: #36454F;\n",
    "            }\n",
    "            .shares_word {\n",
    "                font-size: 10px;\n",
    "                color: #36454F;\n",
    "            }\n",
    "            .error {\n",
    "                color: red;\n",
    "            }\n",
    "            .change_up {\n",
    "                font-size: 17px;\n",
    "                font-weight: bold;\n",
    "                color: darkgreen;\n",
    "                padding: 20px 0;\n",
    "                float: left;\n",
    "            }\n",
    "            .change_down {\n",
    "                font-size: 17px;\n",
    "                font-weight: bold;\n",
    "                color: darkred;\n",
    "                padding: 20px 0;\n",
    "                float: left;\n",
    "            }\n",
    "        </style>\n",
    "        <script type=\"text/javascript\" src=\"https://cdn.jsdelivr.net/npm//vega@5\"></script>\n",
    "        <script type=\"text/javascript\" src=\"https://cdn.jsdelivr.net/npm//vega-lite@4.17.0\"></script>\n",
    "        <script type=\"text/javascript\" src=\"https://cdn.jsdelivr.net/npm//vega-embed@6\"></script>\n",
    "    </head>\n",
    "    <body>\n",
    "        <div class='grid-container'>\n",
    "        \"\"\" + '\\n'.join(groups) + \"\"\"\n",
    "        </div>\n",
    "    </body>\n",
    "    </html>\n",
    "    \"\"\".strip()\n",
    "\n",
    "    return dp.HTML(html)"
   ]
  },
  {
   "cell_type": "markdown",
   "metadata": {},
   "source": [
    "#### 1.2 Portfolio Historical"
   ]
  },
  {
   "cell_type": "markdown",
   "metadata": {},
   "source": [
    "Get Transactions"
   ]
  },
  {
   "cell_type": "code",
   "execution_count": 14,
   "metadata": {},
   "outputs": [],
   "source": [
    "def get_referrals(client):\n",
    "    \"\"\"\n",
    "    \n",
    "    :param: client\n",
    "    :return:\n",
    "    \"\"\"\n",
    "    \n",
    "    referrals = client.account.get_referrals()\n",
    "    \n",
    "    # Stock Referrals\n",
    "    referral_stock = pd.concat(\n",
    "        [pd.DataFrame(referral['reward']['stocks']) for referral in referrals]\n",
    "    )\n",
    "    referral_stock = pd.DataFrame(\n",
    "        [\n",
    "            [s[2], s[10], '', 'buy', 0.0, s[3], s[4]]\n",
    "            for s in referral_stock.values\n",
    "        ]\n",
    "    )\n",
    "    \n",
    "    # Cash Referrals\n",
    "    referral_cash = pd.concat(\n",
    "        [pd.DataFrame(referral['reward']['cash']) for referral in referrals]\n",
    "    )\n",
    "    referral_cash = pd.DataFrame(\n",
    "        [\n",
    "            ['Cash', s[10], '', 'deposit', 0.0, 1.0, s[4]]\n",
    "            for s in referral_cash.values\n",
    "        ]\n",
    "    )\n",
    "    \n",
    "    return referral_stock, referral_cash"
   ]
  },
  {
   "cell_type": "code",
   "execution_count": 15,
   "metadata": {},
   "outputs": [],
   "source": [
    "def get_portfolio_transactions(client):\n",
    "    \"\"\"\n",
    "    \n",
    "    :param: client\n",
    "    :return:\n",
    "    \"\"\"\n",
    "    \n",
    "    # EXPORT ALL TRADES\n",
    "    client.export.export_completed_stock_orders(\n",
    "        dir_path=ROOT,\n",
    "        file_name='stock_orders.csv'\n",
    "    )\n",
    "    client.export.export_completed_crypto_orders(\n",
    "        dir_path=ROOT,\n",
    "        file_name='crypto_orders.csv'\n",
    "    )\n",
    "    client.export.export_completed_option_orders(\n",
    "        dir_path=ROOT,\n",
    "        file_name='option_orders.csv'\n",
    "    )\n",
    "    \n",
    "    # LOAD ALL TRADES\n",
    "    stock_orders = pd.read_csv('stock_orders.csv')\n",
    "    crypto_orders = pd.read_csv('crypto_orders.csv')\n",
    "    option_orders = pd.read_csv('option_orders.csv')\n",
    "    \n",
    "    trades = pd.concat(\n",
    "        [stock_orders, crypto_orders]\n",
    "    )\n",
    "    \n",
    "    # DELETE ALL TRADES\n",
    "    os.remove('stock_orders.csv')\n",
    "    os.remove('crypto_orders.csv')\n",
    "    os.remove('option_orders.csv')\n",
    "\n",
    "    return stock_orders, crypto_orders, option_orders"
   ]
  },
  {
   "cell_type": "markdown",
   "metadata": {},
   "source": [
    "Reverse-Engineer Portfolio"
   ]
  },
  {
   "cell_type": "code",
   "execution_count": 16,
   "metadata": {},
   "outputs": [],
   "source": [
    "def reverse_engineer(client, trades, equity_symbols, crypto_symbols, referrals):\n",
    "    \"\"\"\n",
    "    \n",
    "    :param: client\n",
    "    :param: trades\n",
    "    :param: equity_symbols\n",
    "    :param: crypto_symbols\n",
    "    :param: referrals\n",
    "    :return:\n",
    "    \"\"\"\n",
    "    global is_open\n",
    "    \n",
    "    # LOAD AND CLEAN ALL TRANSFERS\n",
    "    transfers = pd.DataFrame(\n",
    "        client.account.get_bank_transfers()\n",
    "    )\n",
    "    transfers = transfers.apply(\n",
    "        lambda x: pd.Series(\n",
    "            ['Cash', x[15], None, x[7], x[9], 1, x[6]]\n",
    "        ),\n",
    "        axis=1\n",
    "    )\n",
    "    transfers.columns = trades.columns\n",
    "    \n",
    "    # CONCATENATE AND CLEAN ALL TRANSACTIONS\n",
    "    transactions = pd.concat(\n",
    "        [trades, transfers]\n",
    "    )\n",
    "    transactions['date'] = pd.to_datetime(\n",
    "        pd.Series(transactions['date'].str[:10]),\n",
    "        format='%Y-%m-%d'\n",
    "    ).dt.date\n",
    "    transactions = transactions.sort_values(\n",
    "        by='date', \n",
    "        ascending=True\n",
    "    ).reset_index(drop=True)\n",
    "    transactions['fees'] = transactions['fees'].astype(float)\n",
    "    transactions['quantity'] = transactions['quantity'].astype(float)\n",
    "    transactions['average_price'] = transactions['average_price'].astype(float)\n",
    "    \n",
    "    # REVERSE ENGINEER PORTFOLIO WEIGHTS\n",
    "    symbols = transactions.symbol.unique().tolist()\n",
    "    \n",
    "    # Initial and Present Dates\n",
    "    start = transactions.iloc[0]['date']\n",
    "    present = datetime.date.today()\n",
    "    days = (present - start).days\n",
    "    \n",
    "    portfolio_weights = []\n",
    "    w = {\n",
    "        symbol: 0.0 for symbol in symbols\n",
    "    }\n",
    "    w['Cash'] = 0.0\n",
    "    \n",
    "    # Locate all Transactions from the start to present\n",
    "    # ---> if transaction on that day, update security weight and resulting remaining cash\n",
    "    # ---> accounts for bank transfers, withdrawals, and Robinhood referrals\n",
    "    for date in pd.date_range(start, present):\n",
    "        result = transactions.loc[transactions['date'] == date.date()]\n",
    "        if len(result) != 0:\n",
    "            for r in result.values:\n",
    "                symbol, d, type_, direction, fees, quantity, price = r\n",
    "                if symbol == 'Cash':\n",
    "                    w['Cash'] += quantity * price * (-1 if direction == 'withdraw' else 1)\n",
    "                else:\n",
    "                    w[symbol] += quantity * (-1 if direction == 'sell' else 1)\n",
    "                    if type_ != '':\n",
    "                        w['Cash'] += quantity * price * (-1 if direction == 'buy' else 1)\n",
    "                    \n",
    "        portfolio_weights.append(list(w.values()))\n",
    "    historical_weights = pd.DataFrame(\n",
    "        portfolio_weights,\n",
    "        columns=symbols,\n",
    "        index=pd.date_range(start, present)\n",
    "    )\n",
    "    \n",
    "    # Add to Market Open Dataset if out of range\n",
    "    if start < is_open.iloc[0]['date']:\n",
    "        is_open = get_market_opens(rs.robinhood, start, is_open.iloc[0]['date'])\n",
    "    if present > is_open.iloc[-1]['date']:\n",
    "        is_open = get_market_opens(rs.robinhood, is_open.iloc[-1]['date'], present)\n",
    "    \n",
    "    # Subset for Open Market Dats\n",
    "    market_open = is_open.loc[\n",
    "        (is_open['date'] >= start) & (is_open['date'] <= present)\n",
    "    ]\n",
    "    market_open_dates = market_open['date']\n",
    "    market_open = market_open['is_open']\n",
    "    historical_weights = historical_weights[market_open.values]\n",
    "    \n",
    "    cash = historical_weights['Cash']\n",
    "    historical_weights = historical_weights.drop(\n",
    "        'Cash', axis=1\n",
    "    )\n",
    "    historical_weights.index.name = 'date'\n",
    "    \n",
    "    # Duplicate first symbol for timestamp column\n",
    "    equity_symbols_, crypto_symbols_ = equity_symbols, crypto_symbols\n",
    "    equity_symbols_.insert(0, equity_symbols[0])\n",
    "    crypto_symbols_.insert(0, crypto_symbols[0])\n",
    "    \n",
    "    # Query Historical Prices\n",
    "    equity_historical_prices = pd.concat(\n",
    "        [\n",
    "            pd.Series(\n",
    "                candles(\n",
    "                    FINNHUB_KEY, \n",
    "                    symbol, \n",
    "                    years=(start, present),\n",
    "                    type_='stock'\n",
    "                )['t' if i == 0 else 'c']\n",
    "            )\n",
    "            for i, symbol in enumerate(equity_symbols_)\n",
    "        ],\n",
    "        axis=1\n",
    "    )\n",
    "    equity_historical_prices.columns = ['date'] + equity_symbols[1:]\n",
    "\n",
    "    crypto_historical_prices = pd.concat(\n",
    "        [\n",
    "            pd.Series(\n",
    "                candles(\n",
    "                    FINNHUB_KEY, \n",
    "                    f'BINANCE:{symbol}T', \n",
    "                    years=(start - datetime.timedelta(days=1), present),\n",
    "                    type_='crypto'\n",
    "                )['t' if i == 0 else 'c']\n",
    "            )\n",
    "            for i, symbol in enumerate(crypto_symbols_)\n",
    "        ],\n",
    "        axis=1\n",
    "    )\n",
    "    crypto_historical_prices.columns = ['date'] + crypto_symbols[1:]\n",
    "\n",
    "    historical_prices = pd.merge(\n",
    "        equity_historical_prices, \n",
    "        crypto_historical_prices,\n",
    "        how='left',\n",
    "        on='date'\n",
    "    )\n",
    "    historical_prices['date'] = pd.to_datetime(\n",
    "        historical_prices['date'], \n",
    "        unit='s'\n",
    "    ).dt.date\n",
    "    historical_prices = historical_prices.set_index('date')\n",
    "\n",
    "    return historical_prices, historical_weights, cash"
   ]
  },
  {
   "cell_type": "code",
   "execution_count": 17,
   "metadata": {},
   "outputs": [],
   "source": [
    "def portfolio_kpis(historical):\n",
    "    \"\"\"\n",
    "    \n",
    "    :param: historical\n",
    "    :return:\n",
    "    \"\"\"\n",
    "    \n",
    "    cash_t1, equity_t1, crypto_t1, total_t1 = historical.iloc[-1][['Cash', 'Equity Value', 'Crypto Value', 'Total Portfolio Value']]\n",
    "    cash_t2, equity_t2, crypto_t2, total_t2 = historical.iloc[-2][['Cash', 'Equity Value', 'Crypto Value',  'Total Portfolio Value']]\n",
    "    \n",
    "    equity_delta = (equity_t1 / equity_t2 - 1) * 100\n",
    "    crypto_delta = (crypto_t1 / crypto_t2 - 1) * 100\n",
    "    total_delta = (total_t1 / total_t2 - 1) * 100\n",
    "    \n",
    "    # Portfolio Value\n",
    "    value = \"\"\"\n",
    "        <html>\n",
    "            <style>\n",
    "                .header {\n",
    "                    font-size: 18px;\n",
    "                }\n",
    "                .big_number {\n",
    "                    font-size: 24px;\n",
    "                    font-weight: bold;\n",
    "                }\n",
    "                .delta {\n",
    "                    font-size: 16px;\n",
    "                    color: \"\"\" + ('darkgreen;' if total_delta >= 0.0 else 'darkred;') + \"\"\"\n",
    "                }\n",
    "            </style>\n",
    "            <p class='header' align='center'>\n",
    "                Total Portfolio Value <br />\n",
    "                <span class='big_number'>$\"\"\" + str(round(total_t1, 2)) + \"\"\"</span>\n",
    "                <span class='delta'>\"\"\" + str(round(total_delta, 2)) + \"\"\"%</span>\n",
    "            </p>\n",
    "        </html>\n",
    "    \"\"\".strip()\n",
    "    value = dp.HTML(value)\n",
    "    \n",
    "    # Breakdown of Cash, Equity, Crypto\n",
    "    cash_bn = dp.BigNumber(\n",
    "        heading='Cash',\n",
    "        value=f\"${round(cash_t1, 2)}\"\n",
    "    )\n",
    "    equity_bn = dp.BigNumber(\n",
    "        heading='Equity Value',\n",
    "        value=f\"${round(equity_t1, 2)}\",\n",
    "        change=f\"{round(equity_delta, 2)}%\",\n",
    "        is_upward_change=True if equity_delta >= 0.0 else False\n",
    "    )\n",
    "    crypto_bn = dp.BigNumber(\n",
    "        heading='Crypto Value',\n",
    "        value=f\"${round(crypto_t1, 2)}\",\n",
    "        change=f\"{round(crypto_delta, 2)}%\",\n",
    "        is_upward_change=True if crypto_delta >= 0.0 else False\n",
    "    )\n",
    "    breakdown = dp.Group(\n",
    "        blocks=[\n",
    "            cash_bn,\n",
    "            equity_bn,\n",
    "            crypto_bn\n",
    "        ],\n",
    "        columns=3\n",
    "    )\n",
    "    \n",
    "    # Overall Portfolio Plot\n",
    "    historical['date'] = pd.to_datetime(\n",
    "        historical['date']\n",
    "    )\n",
    "    alt_chart = alt.Chart(\n",
    "        historical\n",
    "    ).mark_area(\n",
    "        line={'color': 'darkgreen'},\n",
    "        color=alt.Gradient(\n",
    "            gradient='linear',\n",
    "            stops=[\n",
    "                alt.GradientStop(color='white', offset=0),\n",
    "                alt.GradientStop(color='darkgreen', offset=1)\n",
    "            ]\n",
    "        )\n",
    "    ).encode(\n",
    "        x=alt.X(\n",
    "            \"date:T\",\n",
    "            axis=alt.Axis(\n",
    "                title=\"Date\",\n",
    "                format=('%b %Y'),\n",
    "                labelAngle=-60,\n",
    "                tickCount={\"interval\": \"month\", \"step\": 1}\n",
    "            )\n",
    "        ),\n",
    "        y=alt.Y(\n",
    "            'Total Portfolio Value',\n",
    "            axis=alt.Axis(\n",
    "                title=\"Total Portfolio Value ($)\"\n",
    "            )\n",
    "        )\n",
    "    ).configure_axis(\n",
    "        grid=False\n",
    "    )\n",
    "    overall_plot = dp.Plot(\n",
    "        alt_chart\n",
    "    )\n",
    "    \n",
    "    # Breakdown Portfolio Plot\n",
    "#     breakdown_plot = dp.Plot(\n",
    "    \n",
    "#     )\n",
    "    \n",
    "    return dp.Group(\n",
    "        blocks=[\n",
    "            value,\n",
    "            breakdown,\n",
    "            overall_plot\n",
    "#             breakdown_plot\n",
    "        ]\n",
    "    )"
   ]
  },
  {
   "cell_type": "markdown",
   "metadata": {},
   "source": [
    "## 2. Portfolio News"
   ]
  },
  {
   "cell_type": "code",
   "execution_count": 43,
   "metadata": {},
   "outputs": [],
   "source": [
    "def get_portfolio_news(client, tickers):\n",
    "    \"\"\"\n",
    "    \n",
    "    :param: client\n",
    "    :param: tickers\n",
    "    :return: \n",
    "    \"\"\"\n",
    "    portfolio_news = list(map(\n",
    "        lambda t: robinhood_news(client, t), tickers\n",
    "    ))\n",
    "    portfolio_news = [\n",
    "        article for ticker_news in portfolio_news for article in ticker_news\n",
    "    ]\n",
    "    news = sum(portfolio_news[::2], [])\n",
    "    timestamps = sum(portfolio_news[1::2], [])\n",
    "    \n",
    "    news = pd.DataFrame(\n",
    "        [news, timestamps]        \n",
    "    ).T\n",
    "    news.columns = ['groups', 'date']\n",
    "    news.sort_values(\n",
    "        by='date',\n",
    "        ascending=False,\n",
    "        inplace=True\n",
    "    )\n",
    "    \n",
    "    return list(news['groups'])"
   ]
  },
  {
   "cell_type": "markdown",
   "metadata": {},
   "source": [
    "## 3. Portfolio Analytics"
   ]
  },
  {
   "cell_type": "code",
   "execution_count": 19,
   "metadata": {},
   "outputs": [],
   "source": [
    "sp500 = pdr.get_data_yahoo('^GSPC')['Close']\n",
    "sp500 = np.log(\n",
    "    sp500 / sp500.shift()\n",
    ").values"
   ]
  },
  {
   "cell_type": "code",
   "execution_count": 20,
   "metadata": {},
   "outputs": [],
   "source": [
    "def calculate_beta(sp500, ticker, years=5, equity=True):\n",
    "    \"\"\"\n",
    "    \n",
    "    :param: sp500\n",
    "    :param: ticker\n",
    "    :param: years\n",
    "    :param: equity\n",
    "    :return:\n",
    "    \"\"\"\n",
    "    c = candles(\n",
    "        FINNHUB_KEY, \n",
    "        ticker if equity else f'BINANCE:{ticker}USDT', \n",
    "        years=years,\n",
    "        type_='stock' if equity else 'crypto'\n",
    "    )['c']\n",
    "\n",
    "    if sp500.shape[0] > c.shape[0]:\n",
    "        sp500 = sp500[:c.shape[0]]\n",
    "    else:\n",
    "        c = c[:sp500.shape[0]]\n",
    "    \n",
    "    log_r = np.log(\n",
    "        c / c.shift()\n",
    "    ).values\n",
    "    df = pd.DataFrame({\n",
    "        \"sp500\": sp500,\n",
    "        ticker: log_r\n",
    "    })\n",
    "    cov_ = df.cov()\n",
    "    var_ = df.sp500.var()\n",
    "    beta = (cov_/var_).loc['sp500', ticker]\n",
    "    \n",
    "    return beta"
   ]
  },
  {
   "cell_type": "markdown",
   "metadata": {},
   "source": [
    "## 4. Generate Reports"
   ]
  },
  {
   "cell_type": "code",
   "execution_count": 21,
   "metadata": {},
   "outputs": [],
   "source": [
    "TODAY = datetime.date.today()"
   ]
  },
  {
   "cell_type": "code",
   "execution_count": 22,
   "metadata": {},
   "outputs": [],
   "source": [
    "def build_header(user):\n",
    "    \"\"\"\n",
    "    \n",
    "    :param: user\n",
    "    :return:\n",
    "    \"\"\"\n",
    "    \n",
    "    return dp.HTML(\n",
    "        \"\"\"\n",
    "        <html>\n",
    "            <style type='text/css'>\n",
    "                @keyframes rotate {\n",
    "                    0%   {color: #0BDA51;}\n",
    "                    15%  {color: #32CD32;}\n",
    "                    30%  {color: #4CBB17;}\n",
    "                    60%  {color: #008000;}\n",
    "                    75%  {color: #4CBB17;}\n",
    "                    90%  {color: #32CD32;}\n",
    "                    100% {color: #0BDA51;}\n",
    "                }\n",
    "                h1 {\n",
    "                    color: #0BDA51;\n",
    "                    animation-name: rotate;\n",
    "                    animation-duration: 4s;\n",
    "                    animation-iteration-count: infinite;\n",
    "                }\n",
    "            </style>\n",
    "            <h1>Portfolio Analysis</h1>\n",
    "            <b>User:</b> \"\"\" + user + \"\"\"<br><br>\n",
    "            <b>Generated:</b> \"\"\" + TODAY.strftime('%A, %B %d, %Y') + \"\"\"\n",
    "        </html>\n",
    "        \"\"\".strip()\n",
    "    )"
   ]
  },
  {
   "cell_type": "code",
   "execution_count": 23,
   "metadata": {},
   "outputs": [],
   "source": [
    "def upload_report(r, user):\n",
    "    \"\"\"\n",
    "    \n",
    "    :param: r\n",
    "    :param: user\n",
    "    :return:\n",
    "    \"\"\"\n",
    "    try:\n",
    "        r.upload(\n",
    "            name='Portfolio Analysis', \n",
    "            open=False\n",
    "        )\n",
    "    except requests.exceptions.HTTPError:\n",
    "        print(\n",
    "            ErrorHandler(\"Report Upload Error; FATAL.\", *get_error_info())\n",
    "        )\n",
    "        time.sleep(5)\n",
    "\n",
    "        r.upload(\n",
    "            name='Portfolio Analysis', \n",
    "            open=False\n",
    "        )\n",
    "        \n",
    "    r.save(\n",
    "        path=f'{ROOT}/Portfolio-Analysis.html'\n",
    "    )\n",
    "    webbrowser.open(\n",
    "        r.web_url\n",
    "    )"
   ]
  },
  {
   "cell_type": "code",
   "execution_count": 44,
   "metadata": {},
   "outputs": [],
   "source": [
    "def generate_report(user):\n",
    "    \"\"\"\n",
    "    \n",
    "    :param: user\n",
    "    :return:\n",
    "    \"\"\"\n",
    "\n",
    "    user_info = users.loc[users.short_name == user]\n",
    "    name, _, email = user_info.values[0]\n",
    "    \n",
    "    print(f\"---------- Generating {name.title()}'s Report ----------\\n\")\n",
    "    \n",
    "    # ---------- ROBINHOOD AUTHENTICATION ----------\n",
    "    username, password = ROBINHOOD_USERS[user].values()\n",
    "    \n",
    "    try:\n",
    "        robinhood = rs.robinhood.authentication.login(\n",
    "            username, \n",
    "            password\n",
    "        )\n",
    "    except:\n",
    "        print('Failed Robinhood Authentication - Exiting...')\n",
    "        return\n",
    "    \n",
    "    print(\"   1. Successful Robinhood Authentication\")\n",
    "    \n",
    "    # GET PORTFOLIO TRANSACTIONS\n",
    "    # ---> all transactions on account\n",
    "    stocks, crypto, options = get_portfolio_transactions(rs.robinhood)\n",
    "    all_stock_symbols = stocks.symbol.unique().tolist()\n",
    "    all_crypto_symbols = crypto.symbol.unique().tolist()\n",
    "    all_option_symbols = options.chain_symbol.unique().tolist()\n",
    "    \n",
    "    # BUILD HOLDINGS\n",
    "    # ---> only open positions\n",
    "    tickers, data, profile = load_portfolio(rs.robinhood)\n",
    "    stock_symbols, etf_symbols, crypto_symbols = tickers\n",
    "    stock_open, etf_open, crypto_open = data\n",
    "    flat_tickers = np.array(\n",
    "        tickers, dtype=object\n",
    "    ).flatten().tolist()\n",
    "    stock_quantities = stock_open.quantity.astype(float).tolist()\n",
    "    etf_quantities = etf_open.quantity.astype(float).tolist()\n",
    "\n",
    "    # ---> Intermediate Crypto Quote Lookup\n",
    "    crypto_quotes = list(map(\n",
    "        lambda symbol: float(rs.robinhood.crypto.get_crypto_quote(symbol)['mark_price']),\n",
    "        crypto_symbols\n",
    "    ))\n",
    "    crypto_quantities = crypto_open.quantity_available.astype(float).tolist()\n",
    "    crypto_value = (np.multiply(crypto_quantities, crypto_quotes)).sum()\n",
    "    \n",
    "    start = profile['start_date']\n",
    "    mkt_value, prev_mkt_value = profile['market_value'], profile['last_core_market_value']\n",
    "    mkt_value, prev_mkt_value = float(mkt_value), float(prev_mkt_value)\n",
    "    delta_pct = mkt_value / prev_mkt_value - 1\n",
    "    cash = float(profile['withdrawable_amount'])\n",
    "    portfolio_value = mkt_value + crypto_value + cash\n",
    "    print(\"   2. Built Holdings and Retrieved Historical Transactions\")\n",
    "    \n",
    "    # ---------- PORTFOLIO SUMMARY ----------\n",
    "    # ---> Individual Securities\n",
    "    summary_blocks = []\n",
    "    if len(stock_symbols) > 0:\n",
    "        stock_html = security_html(\n",
    "            stock_symbols, stock_quantities, range(1, len(stock_symbols) + 1), equity=True\n",
    "        )\n",
    "        summary_blocks.extend(\n",
    "            [dp.Text(f\"### Equities\"), stock_html]\n",
    "        )\n",
    "    if len(etf_symbols) > 0:\n",
    "        etf_html = security_html(\n",
    "            etf_symbols, etf_quantities, range(1, len(etf_symbols) + 1), equity=True\n",
    "        )\n",
    "        summary_blocks.extend(\n",
    "            [dp.Text(f\"### Exchange Traded Funds\"), etf_html]\n",
    "        )\n",
    "    if len(crypto_symbols) > 0:\n",
    "        crypto_html = security_html(\n",
    "            crypto_symbols, crypto_quantities, range(1, len(crypto_symbols) + 1), equity=False\n",
    "        )\n",
    "        summary_blocks.extend(\n",
    "            [dp.Text(f\"### Cryptocurrencies\"), crypto_html]\n",
    "        )\n",
    "        \n",
    "    # ---> Overall Portfolio\n",
    "    trades = pd.concat(\n",
    "        [stocks, crypto]\n",
    "    )\n",
    "    \n",
    "    # Account for Referrals\n",
    "    referral_stock, referral_cash = get_referrals(rs.robinhood)\n",
    "    referrals = pd.concat(\n",
    "        [referral_stock, referral_cash]\n",
    "    )\n",
    "    referrals.columns = trades.columns\n",
    "    \n",
    "    trades = pd.concat(\n",
    "        [trades, referrals]\n",
    "    )\n",
    "    \n",
    "    # Reverse Engineer Historical Portfolio Value\n",
    "    prices, weights, cash = reverse_engineer(\n",
    "        rs.robinhood, \n",
    "        trades, \n",
    "        all_stock_symbols, \n",
    "        all_crypto_symbols, \n",
    "        referrals\n",
    "    )\n",
    "    prices = prices.fillna(0)\n",
    "    prices, weights = prices.align(weights)\n",
    "    values = prices * weights\n",
    "    values['Cash'] = cash\n",
    "    values['Total Portfolio Value'] = values.sum(\n",
    "        axis=1\n",
    "    )\n",
    "    values['Equity Value'] = values[all_stock_symbols].sum(\n",
    "        axis=1\n",
    "    )\n",
    "    values['Crypto Value'] = values[all_crypto_symbols].sum(\n",
    "        axis=1\n",
    "    )\n",
    "    \n",
    "    # Plot Historical Portfolio Value\n",
    "    portfolio_group = portfolio_kpis(\n",
    "        values.reset_index()\n",
    "    )\n",
    "    \n",
    "    summary = dp.Group(\n",
    "        blocks=[\n",
    "            dp.Group(blocks=[*summary_blocks]),\n",
    "            portfolio_group\n",
    "        ],\n",
    "        columns=2,\n",
    "        label='Overview'\n",
    "    )\n",
    "    print(\"   3. Completed Portfolio Summary\")\n",
    "    \n",
    "    # ----------   PORTFOLIO NEWS  ----------\n",
    "    \n",
    "    news = get_portfolio_news(\n",
    "        rs.robinhood,\n",
    "        stock_symbols\n",
    "    )\n",
    "    news = dp.Group(\n",
    "        blocks=news,\n",
    "        columns=2,\n",
    "        label='News'\n",
    "    )\n",
    "    print(\"   4. Aggregated Portfolio News\")\n",
    "    \n",
    "    # ---------- PORTFOLIO ANALYSIS ---------\n",
    "    analysis = dp.Text(\n",
    "        \"None\",\n",
    "        label='Analysis'\n",
    "    )\n",
    "    \n",
    "    # ----------   MISCELLAENOUS   ----------\n",
    "    header = build_header(name)\n",
    "    credits = dp.Text(\n",
    "        \"Report built by Iain Muir.\"\n",
    "    )\n",
    "    \n",
    "    # BUILD REPORT\n",
    "    report = dp.Report(\n",
    "        blocks=[\n",
    "            header,\n",
    "            dp.Divider(),\n",
    "            dp.Select(\n",
    "                blocks=[\n",
    "                    summary, news, analysis\n",
    "                ],\n",
    "                type=dp.SelectType.TABS,\n",
    "                label='main_select'\n",
    "            ),\n",
    "            dp.Divider(),\n",
    "            credits\n",
    "        ]\n",
    "    )\n",
    "    print(\"   5. Succesfully Build Datapane Report\\n\\n\")\n",
    "    \n",
    "    # REPORT UPLOAD\n",
    "    upload_report(report, user)\n",
    "    \n",
    "    # Remove Altair Chart HTML\n",
    "    for file in os.listdir(os.getcwd()):\n",
    "        if \".\" not in file:\n",
    "            continue\n",
    "        if '.html' in file and '_chart' in file:\n",
    "            os.remove(file)\n",
    "\n",
    "    return \"COMPLETE\""
   ]
  },
  {
   "cell_type": "code",
   "execution_count": 45,
   "metadata": {},
   "outputs": [
    {
     "name": "stdout",
     "output_type": "stream",
     "text": [
      "---------- Generating Iain Muir's Report ----------\n",
      "\n",
      "   1. Successful Robinhood Authentication\n",
      "   2. Built Holdings and Retrieved Historical Transactions\n",
      "   3. Completed Portfolio Summary\n",
      "   4. Aggregated Portfolio News\n",
      "   5. Succesfully Build Datapane Report\n",
      "\n",
      "\n"
     ]
    },
    {
     "data": {
      "text/markdown": [
       "Uploading report and associated data - *please wait...*"
      ],
      "text/plain": [
       "<IPython.core.display.Markdown object>"
      ]
     },
     "metadata": {},
     "output_type": "display_data"
    },
    {
     "data": {
      "text/markdown": [
       "Report successfully uploaded. View and share your report <a href='https://datapane.com/u/iainmuir/reports/M385qD7/portfolio-analysis/' target='_blank'>here</a>, or edit your report <a href='https://datapane.com/u/iainmuir/reports/M385qD7/portfolio-analysis/edit/' target='_blank'>here</a>."
      ],
      "text/plain": [
       "<IPython.core.display.Markdown object>"
      ]
     },
     "metadata": {},
     "output_type": "display_data"
    },
    {
     "data": {
      "text/markdown": [
       "Report saved to .//Users/iainmuir/PycharmProjects/Desktop/PersonalProjects/StockMarket/PortfolioAnalysis/Portfolio-Analysis.html"
      ],
      "text/plain": [
       "<IPython.core.display.Markdown object>"
      ]
     },
     "metadata": {},
     "output_type": "display_data"
    },
    {
     "name": "stdout",
     "output_type": "stream",
     "text": [
      "CPU times: user 3.03 s, sys: 341 ms, total: 3.37 s\n",
      "Wall time: 39.3 s\n"
     ]
    }
   ],
   "source": [
    "%%time\n",
    "\n",
    "status = users.short_name.apply(\n",
    "    lambda user: generate_report(user)\n",
    ")"
   ]
  },
  {
   "cell_type": "markdown",
   "metadata": {},
   "source": [
    "## 5. Validate Reports"
   ]
  },
  {
   "cell_type": "code",
   "execution_count": 26,
   "metadata": {},
   "outputs": [],
   "source": [
    "def validate_report(user, status):\n",
    "    \"\"\"\n",
    "    \n",
    "    :param: user\n",
    "    :param: status\n",
    "    :return:\n",
    "    \"\"\"\n",
    "    if status == 'COMPLETE':\n",
    "        print(f\"{user}'s Report: SUCCESS!\")\n",
    "        Logging.write_success_to_log(user)\n",
    "    else:\n",
    "        print(\n",
    "            ErrorHandler(\n",
    "                f\"Unable to Generate {user}'s Report\", *get_error_info()\n",
    "            )\n",
    "        )"
   ]
  },
  {
   "cell_type": "code",
   "execution_count": 27,
   "metadata": {},
   "outputs": [
    {
     "name": "stdout",
     "output_type": "stream",
     "text": [
      "Iain Muir's Report: SUCCESS!\n"
     ]
    }
   ],
   "source": [
    "validate = list(map(\n",
    "    lambda user, status: validate_report(user, status),\n",
    "    users.name,\n",
    "    status\n",
    "))"
   ]
  },
  {
   "cell_type": "markdown",
   "metadata": {},
   "source": [
    "## 6. Export Reports"
   ]
  },
  {
   "cell_type": "code",
   "execution_count": 28,
   "metadata": {},
   "outputs": [],
   "source": [
    "# TODO GMAIL API?"
   ]
  }
 ],
 "metadata": {
  "kernelspec": {
   "display_name": "Portfolio",
   "language": "python",
   "name": "portfolioanalysis"
  },
  "language_info": {
   "codemirror_mode": {
    "name": "ipython",
    "version": 3
   },
   "file_extension": ".py",
   "mimetype": "text/x-python",
   "name": "python",
   "nbconvert_exporter": "python",
   "pygments_lexer": "ipython3",
   "version": "3.9.0"
  }
 },
 "nbformat": 4,
 "nbformat_minor": 4
}
