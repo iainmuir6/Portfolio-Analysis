{
 "cells": [
  {
   "cell_type": "markdown",
   "metadata": {},
   "source": [
    "# End of Day Portfolio Analysis"
   ]
  },
  {
   "cell_type": "markdown",
   "metadata": {},
   "source": [
    "**Iain Muir, iam9ez@virginia.edu**"
   ]
  },
  {
   "cell_type": "markdown",
   "metadata": {},
   "source": [
    "*Date: February 16th, 2021*"
   ]
  },
  {
   "cell_type": "markdown",
   "metadata": {},
   "source": [
    "## Table of Contents"
   ]
  },
  {
   "cell_type": "markdown",
   "metadata": {},
   "source": [
    "..."
   ]
  },
  {
   "cell_type": "markdown",
   "metadata": {},
   "source": [
    "## 0. Import Libraries and Secrets"
   ]
  },
  {
   "cell_type": "markdown",
   "metadata": {},
   "source": [
    "Python Packages"
   ]
  },
  {
   "cell_type": "code",
   "execution_count": 32,
   "metadata": {},
   "outputs": [],
   "source": [
    "import pandas_datareader as pdr\n",
    "import datapane as dp\n",
    "import pandas as pd\n",
    "import numpy as np\n",
    "import webbrowser\n",
    "import datetime\n",
    "import warnings\n",
    "import json\n",
    "import os"
   ]
  },
  {
   "cell_type": "markdown",
   "metadata": {},
   "source": [
    "Modules"
   ]
  },
  {
   "cell_type": "code",
   "execution_count": 2,
   "metadata": {},
   "outputs": [],
   "source": [
    "from robinhood import authenticate_, load_portfolio, robinhood_news, get_scroll_objects, ticker_toggle\n",
    "from finnhub import quote, big_number, candles, candlestick, name_search, profile\n",
    "from errors import ErrorHandler, Logging, get_error_info"
   ]
  },
  {
   "cell_type": "markdown",
   "metadata": {},
   "source": [
    "Constants"
   ]
  },
  {
   "cell_type": "code",
   "execution_count": 3,
   "metadata": {},
   "outputs": [],
   "source": [
    "from constants import ROOT"
   ]
  },
  {
   "cell_type": "markdown",
   "metadata": {},
   "source": [
    "Users"
   ]
  },
  {
   "cell_type": "code",
   "execution_count": 4,
   "metadata": {},
   "outputs": [],
   "source": [
    "users = pd.read_csv('users.csv')"
   ]
  },
  {
   "cell_type": "markdown",
   "metadata": {},
   "source": [
    "Secrets"
   ]
  },
  {
   "cell_type": "code",
   "execution_count": 5,
   "metadata": {},
   "outputs": [],
   "source": [
    "with open('secrets.json') as s:\n",
    "    secrets = json.loads(s.read())"
   ]
  },
  {
   "cell_type": "code",
   "execution_count": 6,
   "metadata": {},
   "outputs": [],
   "source": [
    "ROBINHOOD_USERS = secrets['robinhood']\n",
    "FINNHUB_KEY = secrets['finnhub']\n",
    "DATAPANE_KEY = secrets['datapane']"
   ]
  },
  {
   "cell_type": "markdown",
   "metadata": {},
   "source": [
    "Datapane Authorization"
   ]
  },
  {
   "cell_type": "code",
   "execution_count": 7,
   "metadata": {},
   "outputs": [],
   "source": [
    "version = !datapane --version"
   ]
  },
  {
   "cell_type": "code",
   "execution_count": 8,
   "metadata": {},
   "outputs": [],
   "source": [
    "assert version[0].split()[2] == '0.13.2'"
   ]
  },
  {
   "cell_type": "code",
   "execution_count": 9,
   "metadata": {},
   "outputs": [
    {
     "name": "stdout",
     "output_type": "stream",
     "text": [
      "\u001b[32mConnected successfully to https://datapane.com as iainmuir\u001b[0m\r\n"
     ]
    }
   ],
   "source": [
    "!datapane login --token=55010cebc170ecfbeddb82838c360776bf36f6be"
   ]
  },
  {
   "cell_type": "markdown",
   "metadata": {},
   "source": [
    "Preferences"
   ]
  },
  {
   "cell_type": "code",
   "execution_count": 10,
   "metadata": {},
   "outputs": [],
   "source": [
    "warnings.simplefilter(action=\"ignore\", category=pd.core.common.SettingWithCopyWarning)"
   ]
  },
  {
   "cell_type": "markdown",
   "metadata": {},
   "source": [
    "## 1. Portfolio Summary"
   ]
  },
  {
   "cell_type": "code",
   "execution_count": null,
   "metadata": {},
   "outputs": [],
   "source": [
    "def reverse_engineer(date, trades, transfers):\n",
    "    \"\"\"\n",
    "    \n",
    "    :param: client\n",
    "    :param: start\n",
    "    :return:\n",
    "    \"\"\"\n",
    "    global portfolio_dict\n",
    "    \n",
    "    "
   ]
  },
  {
   "cell_type": "code",
   "execution_count": 33,
   "metadata": {},
   "outputs": [],
   "source": [
    "def portfolio_transactions(client, start):\n",
    "    \"\"\"\n",
    "    \n",
    "    :param: client\n",
    "    :param: start\n",
    "    :return:\n",
    "    \"\"\"\n",
    "    global portfolio_dict\n",
    "    \n",
    "    # EXPORT ALL TRADES\n",
    "    client.export.export_completed_stock_orders(\n",
    "        dir_path=ROOT,\n",
    "        file_name='stock_orders.csv'\n",
    "    )\n",
    "    client.export.export_completed_crypto_orders(\n",
    "        dir_path=ROOT,\n",
    "        file_name='crypto_orders.csv'\n",
    "    )\n",
    "    client.export.export_completed_option_orders(\n",
    "        dir_path=ROOT,\n",
    "        file_name='option_orders.csv'\n",
    "    )\n",
    "    \n",
    "    # LOAD ALL TRADES\n",
    "    stock_orders = pd.read_csv('stock_orders.csv')\n",
    "    crypto_orders = pd.read_csv('crypto_orders.csv')\n",
    "    option_orders = pd.read_csv('option_orders.csv')\n",
    "    \n",
    "    trades = pd.concat(\n",
    "        [stock_orders, crypto_orders]\n",
    "    )\n",
    "    \n",
    "    # DELETE ALL TRADES\n",
    "#     os.remove('stock_orders.csv')\n",
    "#     os.remove('crypto_orders.csv')\n",
    "#     os.remove('option_orders.csv')\n",
    "    \n",
    "    # LOAD ALL TRANSFERS\n",
    "    transfers = client.account.get_bank_transfers()\n",
    "    transfers = pd.DataFrame(transfers)\n",
    "    print(transfers)\n",
    "    \n",
    "    # REVERSE ENGINEER PORTFOLIO WEIGHTS\n",
    "    symbols = trades.symbols.unique().tolist()\n",
    "    print(symbols)\n",
    "    \n",
    "    portfolio_equity = {}\n",
    "    portfolio_weights = {}\n",
    "    \n",
    "    weights = list(map)\n",
    "    "
   ]
  },
  {
   "cell_type": "code",
   "execution_count": 13,
   "metadata": {},
   "outputs": [],
   "source": [
    "def theoretical_candles(ticker):\n",
    "    \"\"\"\n",
    "    \n",
    "    :param: ticker\n",
    "    :return:\n",
    "    \"\"\"\n",
    "    \n",
    "    ohlc = candles(FINNHUB_KEY, ticker)['c']\n",
    "    c = ohlc\n",
    "    "
   ]
  },
  {
   "cell_type": "code",
   "execution_count": 14,
   "metadata": {},
   "outputs": [],
   "source": [
    "sp500 = pdr.get_data_yahoo('^GSPC')['Close']\n",
    "sp500 = np.log(\n",
    "    sp500 / sp500.shift()\n",
    ").values"
   ]
  },
  {
   "cell_type": "code",
   "execution_count": 15,
   "metadata": {},
   "outputs": [],
   "source": [
    "def calculate_beta(sp500, ticker):\n",
    "    \"\"\"\n",
    "    \n",
    "    :param: sp500\n",
    "    :param: ticker\n",
    "    :return:\n",
    "    \"\"\"\n",
    "    \n",
    "    c = candles(FINNHUB_KEY, ticker, years=5)['c']\n",
    "    log_r = np.log(\n",
    "        c / c.shift()\n",
    "    ).values\n",
    "    df = pd.DataFrame({\n",
    "        \"sp500\": sp500,\n",
    "        ticker: log_r\n",
    "    })\n",
    "    cov_ = df.cov()\n",
    "    var_ = df.sp500.var()\n",
    "    beta = (cov_/var_).loc['sp500', ticker]\n",
    "    \n",
    "    return beta"
   ]
  },
  {
   "cell_type": "code",
   "execution_count": 16,
   "metadata": {},
   "outputs": [
    {
     "data": {
      "text/plain": [
       "1.0865168077804674"
      ]
     },
     "execution_count": 16,
     "metadata": {},
     "output_type": "execute_result"
    }
   ],
   "source": [
    "calculate_beta(sp500, 'GOOG')"
   ]
  },
  {
   "cell_type": "markdown",
   "metadata": {},
   "source": [
    "## 2. Portfolio News"
   ]
  },
  {
   "cell_type": "code",
   "execution_count": 18,
   "metadata": {},
   "outputs": [],
   "source": [
    "# portfolio_news = list(map(\n",
    "#     lambda t: robinhood_news(robinhood, t), equity_tickers\n",
    "# ))\n",
    "# portfolio_news = np.array(portfolio_news).flatten().tolist()"
   ]
  },
  {
   "cell_type": "markdown",
   "metadata": {},
   "source": [
    "## 3. Portfolio Analytics"
   ]
  },
  {
   "cell_type": "code",
   "execution_count": null,
   "metadata": {},
   "outputs": [],
   "source": []
  },
  {
   "cell_type": "markdown",
   "metadata": {},
   "source": [
    "## 4. Generate Reports"
   ]
  },
  {
   "cell_type": "code",
   "execution_count": 19,
   "metadata": {},
   "outputs": [],
   "source": [
    "TODAY = datetime.date.today()"
   ]
  },
  {
   "cell_type": "code",
   "execution_count": 20,
   "metadata": {},
   "outputs": [],
   "source": [
    "user = 'iain'"
   ]
  },
  {
   "cell_type": "code",
   "execution_count": 21,
   "metadata": {},
   "outputs": [],
   "source": [
    "def build_header(user):\n",
    "    \"\"\"\n",
    "    \n",
    "    :param: user\n",
    "    :return:\n",
    "    \"\"\"\n",
    "    \n",
    "    return dp.HTML(\n",
    "        \"\"\"\n",
    "        <html>\n",
    "            <style type='text/css'>\n",
    "                @keyframes rotate {\n",
    "                    0%   {color: #0BDA51;}\n",
    "                    15%  {color: #32CD32;}\n",
    "                    30%  {color: #4CBB17;}\n",
    "                    60%  {color: #008000;}\n",
    "                    75%  {color: #4CBB17;}\n",
    "                    90%  {color: #32CD32;}\n",
    "                    100% {color: #0BDA51;}\n",
    "                }\n",
    "                h1 {\n",
    "                    color: #0BDA51;\n",
    "                    animation-name: rotate;\n",
    "                    animation-duration: 4s;\n",
    "                    animation-iteration-count: infinite;\n",
    "                }\n",
    "            </style>\n",
    "            <h1>Portfolio Analysis</h1>\n",
    "            <b>User:</b> \"\"\" + user + \"\"\"<br><br>\n",
    "            <b>Generated:</b> \"\"\" + TODAY.strftime('%A, %B %d, %Y') + \"\"\"\n",
    "        </html>\n",
    "        \"\"\".strip()\n",
    "    )"
   ]
  },
  {
   "cell_type": "code",
   "execution_count": 22,
   "metadata": {},
   "outputs": [],
   "source": [
    "def upload_report(r, user):\n",
    "    \"\"\"\n",
    "    \n",
    "    :param: r\n",
    "    :param: user\n",
    "    :return:\n",
    "    \"\"\"\n",
    "    try:\n",
    "        r.upload(\n",
    "            name='Portfolio Analysis', \n",
    "            open=False\n",
    "        )\n",
    "    except requests.exceptions.HTTPError:\n",
    "        print(\n",
    "            ErrorHandler(\"Report Upload Error; FATAL.\", *get_error_info())\n",
    "        )\n",
    "        time.sleep(5)\n",
    "\n",
    "        r.upload(\n",
    "            name='Portfolio Analysis', \n",
    "            open=False\n",
    "        )\n",
    "        \n",
    "    r.save(\n",
    "        path=f'{ROOT}/Portfolio-Analysis.html'\n",
    "    )\n",
    "    webbrowser.open(\n",
    "        r.web_url\n",
    "    )"
   ]
  },
  {
   "cell_type": "code",
   "execution_count": 30,
   "metadata": {},
   "outputs": [],
   "source": [
    "def generate_report(user):\n",
    "    \"\"\"\n",
    "    \n",
    "    :param: user\n",
    "    :return:\n",
    "    \"\"\"\n",
    "    \n",
    "    name, _, email = users.loc[users.short_name == user]\n",
    "    \n",
    "    print(f\"---------- GENERATING {name.title()}'s REPORT ----------\\n\")\n",
    "    \n",
    "    # ROBINHOOD AUTHENTICATION\n",
    "    username, password = ROBINHOOD_USERS[user]\n",
    "    robinhood = authenticate_(username, password)\n",
    "    \n",
    "    # BUILD HOLDINGS\n",
    "    weigths = robinhood.get_all_positions(info='quantity')\n",
    "    weigths = [\n",
    "        float(w) for w in weigths if float(w) != 0.0\n",
    "    ]\n",
    "    \n",
    "    tickers, data, profile = load_portfolio(robinhood)\n",
    "    \n",
    "    flat_tickers = np.array(tickers).flatten().tolist()\n",
    "    \n",
    "    start = profile['start_date']\n",
    "    mkt_value, prev_mkt_value = profile['market_value'], profile['last_core_market_value']\n",
    "    mkt_value, prev_mkt_value = float(mkt_value), float(prev_mkt_value)\n",
    "    delta_pct = mkt_value / prev_mkt_value - 1\n",
    "    cash = float(profile['withdrawable_amount'])\n",
    "    portfolio_value = mkt_value + crypto_value + cash\n",
    "    \n",
    "    portfolio_transactions(robinhood, start)\n",
    "    return \n",
    "    \n",
    "    # PORTFOLIO SUMMARY\n",
    "    summary = None\n",
    "    \n",
    "    # PORTFOLIO NEWS\n",
    "    news = None\n",
    "    \n",
    "    # PORTFOLIO NEWS\n",
    "    analysis = None\n",
    "    \n",
    "    # MISCELLAENOUS\n",
    "    header = build_header(name)\n",
    "    credits = dp.Text(\n",
    "        \"Report built by Iain Muir.\"\n",
    "    )\n",
    "    \n",
    "    # BUILD REPORT\n",
    "    report = dp.Report(\n",
    "        blocks=[\n",
    "            header,\n",
    "            dp.Divider(),\n",
    "            dp.Select(\n",
    "                blocks=[\n",
    "                    summary, news, analysis\n",
    "                ],\n",
    "                type=dp.SelectType.TABS,\n",
    "                label='main_select'\n",
    "            ),\n",
    "            dp.Divider(),\n",
    "            credits\n",
    "        ]\n",
    "    )\n",
    "    \n",
    "    # REPORT UPLOAD\n",
    "    upload_report(report, user)\n",
    "    Logging.write_success_to_log(user)\n",
    "    return \"COMPLETE\""
   ]
  },
  {
   "cell_type": "code",
   "execution_count": 34,
   "metadata": {},
   "outputs": [
    {
     "name": "stdout",
     "output_type": "stream",
     "text": [
      "---------- GENERATING Name's REPORT ----------\n",
      "\n",
      "                                     id                                ref_id  \\\n",
      "0  eba10b7d-edd7-45cf-a65f-2db79dfb6a11  eba10b7d-edd7-45cf-a65f-2db79dfb6a11   \n",
      "1  d4c71f63-2b97-437b-bcac-d926d147362c  d4c71f63-2b97-437b-bcac-d926d147362c   \n",
      "\n",
      "                                                 url cancel  \\\n",
      "0  https://api.robinhood.com/ach/transfers/eba10b...   None   \n",
      "1  https://api.robinhood.com/ach/transfers/d4c71f...   None   \n",
      "\n",
      "                                    ach_relationship  \\\n",
      "0  https://api.robinhood.com/ach/relationships/76...   \n",
      "1  https://api.robinhood.com/ach/relationships/76...   \n",
      "\n",
      "                                         account  amount direction      state  \\\n",
      "0  https://api.robinhood.com/accounts/750029191/  450.00  withdraw  completed   \n",
      "1  https://api.robinhood.com/accounts/750029191/  500.00   deposit  completed   \n",
      "\n",
      "   fees status_description  scheduled expected_landing_date  \\\n",
      "0  0.00                         False            2022-01-04   \n",
      "1  0.00                         False            2020-12-11   \n",
      "\n",
      "  early_access_amount                        created_at  \\\n",
      "0                0.00  2021-12-29T13:56:40.252891-05:00   \n",
      "1                0.00  2020-12-05T12:53:18.134446-05:00   \n",
      "\n",
      "                    updated_at  rhs_state expected_sweep_at  \\\n",
      "0  2022-01-04T13:19:37.917445Z  completed              None   \n",
      "1  2020-12-05T17:53:18.134463Z  completed              None   \n",
      "\n",
      "   expected_landing_datetime investment_schedule_id  \n",
      "0  2022-01-04T09:00:00-05:00                   None  \n",
      "1  2020-12-11T09:00:00-05:00                   None  \n"
     ]
    }
   ],
   "source": [
    "generate_report(user)"
   ]
  },
  {
   "cell_type": "code",
   "execution_count": 56,
   "metadata": {},
   "outputs": [],
   "source": [
    "status = users.name.apply(\n",
    "    lambda user: generate_report(user)\n",
    ").tolist()"
   ]
  },
  {
   "cell_type": "markdown",
   "metadata": {},
   "source": [
    "## 5. Validate Reports"
   ]
  },
  {
   "cell_type": "code",
   "execution_count": 12,
   "metadata": {},
   "outputs": [],
   "source": [
    "def validate_report(user, status):\n",
    "    \"\"\"\n",
    "    \n",
    "    :param: user\n",
    "    :param: status\n",
    "    :return:\n",
    "    \"\"\"\n",
    "    if status == 'COMPLETE':\n",
    "        print(f\"{user}'s Report: SUCCESS!\")\n",
    "        Logging.write_success_to_log(user)\n",
    "    else:\n",
    "        print(\n",
    "            ErrorHandler(\n",
    "                f\"Unable to Generate {user}'s Report\", *get_error_info()\n",
    "            )\n",
    "        )"
   ]
  },
  {
   "cell_type": "code",
   "execution_count": 13,
   "metadata": {},
   "outputs": [
    {
     "name": "stdout",
     "output_type": "stream",
     "text": [
      "Iain Muir's Report: SUCCESS!\n"
     ]
    }
   ],
   "source": [
    "validate = list(map(\n",
    "    lambda user, status: validate_report(user, status),\n",
    "    users.name,\n",
    "    status\n",
    "))"
   ]
  },
  {
   "cell_type": "markdown",
   "metadata": {},
   "source": [
    "## 6. Export Reports"
   ]
  },
  {
   "cell_type": "code",
   "execution_count": 14,
   "metadata": {},
   "outputs": [],
   "source": [
    "# TODO GMAIL API?"
   ]
  }
 ],
 "metadata": {
  "kernelspec": {
   "display_name": "Portfolio",
   "language": "python",
   "name": "portfolioanalysis"
  },
  "language_info": {
   "codemirror_mode": {
    "name": "ipython",
    "version": 3
   },
   "file_extension": ".py",
   "mimetype": "text/x-python",
   "name": "python",
   "nbconvert_exporter": "python",
   "pygments_lexer": "ipython3",
   "version": "3.9.0"
  }
 },
 "nbformat": 4,
 "nbformat_minor": 4
}
